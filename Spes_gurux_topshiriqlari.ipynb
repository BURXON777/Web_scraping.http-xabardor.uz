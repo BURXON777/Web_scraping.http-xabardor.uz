{
  "cells": [
    {
      "cell_type": "markdown",
      "metadata": {
        "id": "view-in-github",
        "colab_type": "text"
      },
      "source": [
        "<a href=\"https://colab.research.google.com/github/BURXON777/Web_scraping.http-xabardor.uz/blob/main/Spes_gurux_topshiriqlari.ipynb\" target=\"_parent\"><img src=\"https://colab.research.google.com/assets/colab-badge.svg\" alt=\"Open In Colab\"/></a>"
      ]
    },
    {
      "cell_type": "code",
      "source": [
        "import plotly.express as px\n",
        "import requests\n",
        "from bs4 import BeautifulSoup \n",
        "import pandas as pd\n",
        "re = requests.get('https://xabardor.uz/')\n",
        "frontend =  re.text\n",
        "soup = BeautifulSoup(frontend,'html.parser')\n",
        "messages = []\n",
        "for i in soup.find_all(\"a\",class_='h6 w-100 pb-md-0 p-md-3 p-2 m-0 border-bottom border-top'):\n",
        "  messages.append('https://xabardor.uz'+i['href'])\n",
        "messages[0]\n",
        "\n",
        "\n",
        "re = requests.get(messages[0])\n",
        "frontend =  re.text\n",
        "soup = BeautifulSoup(frontend,'html.parser')\n",
        "message = []\n",
        "for i in soup.find_all(\"div\",class_='post-details mx-3'):\n",
        "  message.append(i.text)\n",
        "words = message[0].split()\n",
        "# words\n",
        "\n",
        "\n",
        "qoshimcha = ['da', 'ning', 'lar', 'lari', 'dan', 'gan', 'ga', 'ni','bilan','oluvchi','va',',','bor.','biz','doirasi','vazirligi' ,'siyosati','bo‘l','Moxan','bo‘layot','haqi','bir']\n",
        "for i in range(len(words)):\n",
        "  for j in range(len(qoshimcha)):\n",
        "    if qoshimcha[j] in words[i] and words[i].index(qoshimcha[j]):\n",
        "      words[i] = words[i][:words[i].index(qoshimcha[j])]\n",
        "\n",
        "res = []\n",
        "for i in words:\n",
        "    if not i.isdigit():\n",
        "        if i.lower() not in qoshimcha:\n",
        "            res.append(i)\n",
        "\n",
        "pl_dict = {}\n",
        "for i in res:\n",
        "    if i not in pl_dict.keys():\n",
        "        res_count = res.count(i)\n",
        "        pl_dict[i] = res_count\n",
        "data = pd.DataFrame.from_dict(pl_dict, orient='index')\n",
        "dat = data.rename(columns={0:'count'})\n",
        "df = dat.sort_values('count',ascending=False)\n",
        "for i in qoshimcha:\n",
        "  df = df[df.index != i]\n",
        "\n",
        "df=df[:10]\n",
        "\n",
        "df.index.name = \"So'zlar\"\n",
        "fig = px.bar(df, x=df.index, y='count', color='count')\n",
        "fig.show()"
      ],
      "metadata": {
        "id": "anxLnmQjYgFK"
      },
      "execution_count": 19,
      "outputs": []
    }
  ],
  "metadata": {
    "colab": {
      "name": "Spes gurux_topshiriqlari",
      "provenance": [],
      "collapsed_sections": [],
      "toc_visible": true,
      "authorship_tag": "ABX9TyPc4Np+6SGMmvOUUSQdYHwl",
      "include_colab_link": true
    },
    "kernelspec": {
      "display_name": "Python 3",
      "name": "python3"
    },
    "language_info": {
      "name": "python"
    }
  },
  "nbformat": 4,
  "nbformat_minor": 0
}